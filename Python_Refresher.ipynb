{
 "cells": [
  {
   "cell_type": "code",
   "execution_count": 2,
   "id": "a8a38136",
   "metadata": {},
   "outputs": [
    {
     "name": "stdout",
     "output_type": "stream",
     "text": [
      "Number of seconds in 5 days is:  432000\n"
     ]
    }
   ],
   "source": [
    "#This program converts a given number of days into seconds\n",
    "\n",
    "#Step 1: Prompt the user to input the number of days\n",
    "#input has been specified to be an integer\n",
    "days= int(input(\"Enter number of days: \"))\n",
    "\n",
    "#Step 2: Calculation that converts days into seconds\n",
    "#since there are 24 hours in a day, each hour is equal to 60 inutes and each minute is equal to 60 seconds, therefore\n",
    "seconds= days*24*60*60\n",
    "\n",
    "#Step 3: Results of the calculation are displayed to the user\n",
    "print(\"Number of seconds in\" , days, \"days is: \", seconds)"
   ]
  },
  {
   "cell_type": "code",
   "execution_count": null,
   "id": "3a864624",
   "metadata": {},
   "outputs": [],
   "source": []
  },
  {
   "cell_type": "code",
   "execution_count": 2,
   "id": "50f93484",
   "metadata": {},
   "outputs": [
    {
     "name": "stdout",
     "output_type": "stream",
     "text": [
      "The volume of the sphere is:  697.190476190476\n"
     ]
    }
   ],
   "source": [
    "#This program calculates the volume of a sphere given its radius\n",
    "# #Step 1: Prompt user to input the radius\n",
    "#input has been specified to be a float(Decimal values)\n",
    "radius = float(input(\"Enter the radius of the sphere: \"))\n",
    "\n",
    "#Step 2: Calculate the volume using the formula 4/3*22/7*r^3\n",
    "volume = (4/3)*(22/7)*(radius**3)\n",
    "\n",
    "#Step 3: Results are displayed\n",
    "print(\"The volume of the sphere is: \", volume)"
   ]
  },
  {
   "cell_type": "code",
   "execution_count": 7,
   "id": "62979270",
   "metadata": {},
   "outputs": [
    {
     "name": "stdout",
     "output_type": "stream",
     "text": [
      "For a square with side length 20 the perimeter is 80 and the area is 400\n"
     ]
    }
   ],
   "source": [
    "#This program uses functions to calculate the area and perimeter of a square\n",
    "#Step 1: define the function that will calculate the area\n",
    "def calculate_area(side): #area=side*side\n",
    "    area=side*side\n",
    "    return area\n",
    "\n",
    "#Step 2: define the function that will calculate the perimeter\n",
    "def calculate_perimeter(side):#perimeter= 4*side\n",
    "    perimeter=4*side\n",
    "    return perimeter\n",
    "\n",
    "#Step 3:Prompt user to input the value of the side\n",
    "side= int(input(\"Enter the side length of the square: \"))\n",
    "\n",
    "#Calculate the area and perimeter\n",
    "area_result = calculate_area(side)\n",
    "perimeter_result = calculate_perimeter(side)\n",
    "\n",
    "#Display the results\n",
    "print(\"For a square with side length\", side, \"the perimeter is\", perimeter_result ,\"and the area is\", area_result )\n",
    "\n"
   ]
  },
  {
   "cell_type": "code",
   "execution_count": 12,
   "id": "f5ee49df",
   "metadata": {},
   "outputs": [
    {
     "name": "stdout",
     "output_type": "stream",
     "text": [
      "The character  A is: Uppercase\n"
     ]
    }
   ],
   "source": [
    "#This program checks if an input character is uppercase or lowercase using a function\n",
    "def check_case(char): #Checks if a character is uppercase or lowercase\n",
    "    if char.isalpha(): #Check if it is uppercase\n",
    "        if char.isupper():\n",
    "            return \"Uppercase\"\n",
    "        else:\n",
    "            return \"Lowercase\"\n",
    "    else:\n",
    "        return \"Not an alphabet letter\"\n",
    "    \n",
    "#Prompt user to input a charatcer\n",
    "character = input(\"Enter a single character: \")\n",
    "\n",
    "#Call function and get the result\n",
    "result = check_case(character)\n",
    "\n",
    "#Display the results\n",
    "print(\"The character \", character, \"is:\", result  )"
   ]
  },
  {
   "cell_type": "code",
   "execution_count": 15,
   "id": "b83addc9",
   "metadata": {},
   "outputs": [
    {
     "name": "stdout",
     "output_type": "stream",
     "text": [
      "The final value of x is: 1.0416666666666665\n"
     ]
    }
   ],
   "source": [
    "#This program translates the given pseudocode into Python\n",
    "#INITIALIZE variable\n",
    "x=0\n",
    "y=20\n",
    "\n",
    "#while loop will do the REPEAT...UNTIL logic\n",
    "while True: #subtract 4 from y\n",
    "    y=y-4\n",
    "    x=x+(2/y) #add 2/y to x\n",
    "    \n",
    "    if y<6: #this will check if the condition exists till y is less than 6\n",
    "        break #infinite loop comes to an end\n",
    "\n",
    "#Display the final value of x\n",
    "print(\"The final value of x is:\", x)"
   ]
  },
  {
   "cell_type": "code",
   "execution_count": 17,
   "id": "08723154",
   "metadata": {},
   "outputs": [
    {
     "name": "stdout",
     "output_type": "stream",
     "text": [
      "Please enter 5 number: \n",
      "The numbers you entered are:  [10.0, 12.0, 13.0, 14.0, 15.0]\n",
      "The average of the numbers is: 12.8\n"
     ]
    }
   ],
   "source": [
    "#This program lets a user input 5 numbers into a list and calculates their average.\n",
    "#Step 1: Initialize an empty list to store the numbers\n",
    "numbers_list = []\n",
    "\n",
    "#Step 2: For loop that runs exactly 5 times\n",
    "print(\"Please enter 5 number: \")\n",
    "for i in range(5):\n",
    "    value= float(input(f\"Enter value #{i+1}:\"))\n",
    "    numbers_list.append(value)\n",
    "\n",
    "#Step 3: calculate the average\n",
    "average=sum(numbers_list)/ len(numbers_list)\n",
    "\n",
    "print(\"The numbers you entered are: \", numbers_list)\n",
    "print(\"The average of the numbers is:\", average)"
   ]
  },
  {
   "cell_type": "markdown",
   "id": "6c2a451f",
   "metadata": {},
   "source": []
  },
  {
   "cell_type": "markdown",
   "id": "724d0405",
   "metadata": {},
   "source": []
  },
  {
   "cell_type": "code",
   "execution_count": null,
   "id": "5f3b5627",
   "metadata": {},
   "outputs": [],
   "source": []
  },
  {
   "cell_type": "markdown",
   "id": "b0687441",
   "metadata": {},
   "source": []
  },
  {
   "cell_type": "code",
   "execution_count": null,
   "id": "605fb5fa",
   "metadata": {},
   "outputs": [],
   "source": []
  },
  {
   "cell_type": "code",
   "execution_count": null,
   "id": "bbdcf2c6",
   "metadata": {},
   "outputs": [],
   "source": []
  },
  {
   "cell_type": "code",
   "execution_count": null,
   "id": "158654d7",
   "metadata": {},
   "outputs": [],
   "source": []
  },
  {
   "cell_type": "code",
   "execution_count": null,
   "id": "ac54dd2d",
   "metadata": {},
   "outputs": [],
   "source": []
  }
 ],
 "metadata": {
  "kernelspec": {
   "display_name": "Python 3",
   "language": "python",
   "name": "python3"
  },
  "language_info": {
   "codemirror_mode": {
    "name": "ipython",
    "version": 3
   },
   "file_extension": ".py",
   "mimetype": "text/x-python",
   "name": "python",
   "nbconvert_exporter": "python",
   "pygments_lexer": "ipython3",
   "version": "3.13.7"
  }
 },
 "nbformat": 4,
 "nbformat_minor": 5
}
